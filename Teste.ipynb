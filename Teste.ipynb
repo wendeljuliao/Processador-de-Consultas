{
 "cells": [
  {
   "cell_type": "code",
   "execution_count": 7,
   "metadata": {},
   "outputs": [],
   "source": [
    "Parse = [\"SELECT\", \"FROM\", \"WHERE\", \"JOIN ON\", \"=\", \">\", \"<\", \"<=\", \">=\", \"<>\", \"AND\", \"IN\", \"NOT IN\", \"(\" , \")\" ]"
   ]
  },
  {
   "cell_type": "code",
   "execution_count": 8,
   "metadata": {},
   "outputs": [],
   "source": [
    "exemplo = '''SELECT tabela1.coluna1, tabela2.coluna2\n",
    "FROM tabela1\n",
    "JOIN tabela2 ON tabela1.chave = tabela2.chave'''"
   ]
  },
  {
   "cell_type": "code",
   "execution_count": 9,
   "metadata": {},
   "outputs": [
    {
     "data": {
      "text/plain": [
       "['SELECT tabela1.coluna1, tabela2.coluna2',\n",
       " 'FROM tabela1',\n",
       " 'JOIN tabela2 ON tabela1.chave = tabela2.chave']"
      ]
     },
     "execution_count": 9,
     "metadata": {},
     "output_type": "execute_result"
    }
   ],
   "source": [
    "exemplo.split(\"\\n\")"
   ]
  },
  {
   "cell_type": "code",
   "execution_count": null,
   "metadata": {},
   "outputs": [],
   "source": [
    "def modelo_parser(consulta_sql):\n",
    "    consulta = consulta_sql.split(\"\\n\")\n",
    "    "
   ]
  }
 ],
 "metadata": {
  "kernelspec": {
   "display_name": "Python 3",
   "language": "python",
   "name": "python3"
  },
  "language_info": {
   "codemirror_mode": {
    "name": "ipython",
    "version": 3
   },
   "file_extension": ".py",
   "mimetype": "text/x-python",
   "name": "python",
   "nbconvert_exporter": "python",
   "pygments_lexer": "ipython3",
   "version": "3.11.1"
  },
  "orig_nbformat": 4
 },
 "nbformat": 4,
 "nbformat_minor": 2
}
