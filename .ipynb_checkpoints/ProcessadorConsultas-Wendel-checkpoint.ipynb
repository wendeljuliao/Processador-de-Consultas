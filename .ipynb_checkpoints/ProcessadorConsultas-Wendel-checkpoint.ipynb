{
 "cells": [
  {
   "cell_type": "markdown",
   "id": "09b64695-7832-4cd1-9103-909df6c92f58",
   "metadata": {},
   "source": [
    "## Entrada do Usuário"
   ]
  },
  {
   "cell_type": "code",
   "execution_count": 9,
   "id": "306523ef-641d-40bc-893d-d71e5a88a5a5",
   "metadata": {},
   "outputs": [
    {
     "data": {
      "text/plain": [
       "\"Select nome, datanascimento, descricao, saldoinicial from usuario join contas on usuario.idUsuario = contas.Usuario_idUsuario where saldoinicial >=235 and uf ='ce' and cep <> '62930000';\""
      ]
     },
     "execution_count": 9,
     "metadata": {},
     "output_type": "execute_result"
    }
   ],
   "source": [
    "#entradaUsuario = input(\"Escreva o comando SQL\")\n",
    "entradaUsuario = \"Select nome, datanascimento, descricao, saldoinicial from usuario join contas on usuario.idUsuario = contas.Usuario_idUsuario where saldoinicial >=235 and uf ='ce' and cep <> '62930000';\"\n",
    "#entradaUsuario = \"Select idusuario, nome, datanascimento, descricao, saldoinicial, UF, Descrição from usuario join contas on usuario.idUsuario = contas.Usuario_idUsuario join tipoconta on tipoconta.idTipoConta = contas.TipoConta_idTipoConta where saldoinicial < 3000 and uf = 'ce' and Descrição <> 'Conta Corrente' and idusuario > 3;\"\n",
    "\n",
    "entradaUsuario"
   ]
  },
  {
   "cell_type": "markdown",
   "id": "2cb42d38-9875-467c-93d8-49c447cef693",
   "metadata": {},
   "source": [
    "## Grafo de Operadores"
   ]
  },
  {
   "cell_type": "code",
   "execution_count": 6,
   "id": "0ef502c1-fd7d-4727-9531-36165d5d73d0",
   "metadata": {},
   "outputs": [],
   "source": [
    "class Vertice:\n",
    "    def __init__(self, valor):\n",
    "        self.valor = valor\n",
    "        self.adjacentes = []\n",
    "\n",
    "    def add_adjacente(self, adjacente):\n",
    "        self.adjacentes.append(adjacente)\n",
    "        \n",
    "class Grafo:\n",
    "    def __init__(self):\n",
    "        self.vertices = []\n",
    "\n",
    "    def add_vertice(self, valor):\n",
    "        vertice = Vertice(valor)\n",
    "        self.vertices.append(vertice)\n",
    "        return vertice\n",
    "\n",
    "    def add_aresta(self, v1, v2):\n",
    "        v1.add_adjacente(v2)\n",
    "        v2.add_adjacente(v1)\n",
    "\n",
    "        \n",
    "    "
   ]
  },
  {
   "cell_type": "code",
   "execution_count": 18,
   "id": "812c0c52-71d8-4714-a700-72cb07e7656d",
   "metadata": {},
   "outputs": [],
   "source": [
    "teste = [\n",
    " { 'id': 0, 'valor': 'select', 'tipo': 'comando' },\n",
    " { 'id': 1, 'valor': ['nome', 'datanascimento', 'descricao', 'saldoinicial'], 'tipo': 'banco_de_dados' },\n",
    " { 'id': 2, 'valor': 'from', 'tipo': 'comando' },\n",
    " { 'id': 3, 'valor': 'usuario', 'tipo': 'banco_de_dados' },\n",
    " { 'id': 4, 'valor': 'join', 'tipo': 'comando' },\n",
    " { 'id': 5, 'valor': 'contas', 'tipo': 'banco_de_dados' },\n",
    " { 'id': 6, 'valor': 'on', 'tipo': 'comando' },\n",
    " { 'id': 7, 'valor': { 'primeira_chave': 'idUsuario', 'operador': '=', 'segunda_chave': 'Usuario_idUsuario' }, 'tipo': 'relacao' },\n",
    "]"
   ]
  }
 ],
 "metadata": {
  "kernelspec": {
   "display_name": "Python 3 (ipykernel)",
   "language": "python",
   "name": "python3"
  },
  "language_info": {
   "codemirror_mode": {
    "name": "ipython",
    "version": 3
   },
   "file_extension": ".py",
   "mimetype": "text/x-python",
   "name": "python",
   "nbconvert_exporter": "python",
   "pygments_lexer": "ipython3",
   "version": "3.10.9"
  }
 },
 "nbformat": 4,
 "nbformat_minor": 5
}
