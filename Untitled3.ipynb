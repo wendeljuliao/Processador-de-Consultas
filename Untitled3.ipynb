{
 "cells": [
  {
   "cell_type": "code",
   "execution_count": 109,
   "id": "014e467a-92df-4ee9-ab87-2b48f4b12cbf",
   "metadata": {},
   "outputs": [
    {
     "name": "stdout",
     "output_type": "stream",
     "text": [
      "PI idusuario , nome , datanascimento , descricao , saldoinicial , UF , Descrição ( Sigma saldoinicial < 3000 and uf = 'ce' and Descrição <> 'Conta Corrente' and idusuario > 3; ( usuario |X| usuario.idUsuario = contas.Usuario_idUsuario join tipoconta on tipoconta.idTipoConta = contas.TipoConta_idTipoConta contas ) )\n"
     ]
    }
   ],
   "source": [
    "#text = \"select Nome, DataNascimento from usuario join contas on usuario.idUsuario = contas.Usuario_idUsuario where uf = 'ce' and saldoInicial = 200\"\n",
    "#text = \"select * from usuario join contas on usuario.idUsuario = contas.Usuario_idUsuario where uf = 'ce' and saldoInicial = 200\"\n",
    "#text = \"select Nome, DataNascimento from usuario join contas on usuario.idUsuario = contas.Usuario_idUsuario\"\n",
    "#text = \"select * from usuario join contas on usuario.idUsuario = contas.Usuario_idUsuario\"\n",
    "#text = \"select * from usuario where uf = 'ce' and saldoInicial = 200\"\n",
    "text = \"select idusuario, nome, datanascimento, descricao, saldoinicial, UF, Descrição from usuario join contas on usuario.idUsuario = contas.Usuario_idUsuario join tipoconta on tipoconta.idTipoConta = contas.TipoConta_idTipoConta where saldoinicial < 3000 and uf = 'ce' and Descrição <> 'Conta Corrente' and idusuario > 3;\"\n",
    "\n",
    "columns = [col.strip() for col in text[text.index(\"select\")+6:text.index(\"from\")].split(\",\")]\n",
    "\n",
    "justTheWhere = None\n",
    "if \"where\" in text.lower():\n",
    "    justTheWhere = text[text.lower().index(\"where\")+5:].strip()\n",
    "\n",
    "table = None\n",
    "if \"from\" in text.lower():\n",
    "    table = text[text.lower().index(\"from\")+4:].split()[0]\n",
    "\n",
    "tableJoin, condition = None, None\n",
    "if \"join\" in text.lower():\n",
    "    justTheJoin = text[text.lower().index(\"join\")+4:].strip()\n",
    "    tableJoin = justTheJoin[:justTheJoin.index(\" on \")].strip()\n",
    "    if \"where\" in justTheJoin:\n",
    "        condition = justTheJoin[justTheJoin.index(\" on \")+4:justTheJoin.index(\" where \")].strip()\n",
    "    else:\n",
    "        condition = justTheJoin[justTheJoin.index(\" on \")+4:].strip()\n",
    "\n",
    "if \"*\" not in text:\n",
    "    if justTheWhere and tableJoin and condition:\n",
    "        print(f\"PI {' , '.join(columns)} ( Sigma {justTheWhere} ( {table} |X| {condition} {tableJoin} ) )\")\n",
    "    elif justTheWhere:\n",
    "        print(f\"PI {' , '.join(columns)} ( Sigma {justTheWhere} ( {table} ) )\")\n",
    "    elif tableJoin and condition:\n",
    "        print(f\"PI {' , '.join(columns)} ( {table} |X| {condition} {tableJoin} )\")\n",
    "    else:\n",
    "        print(f\"PI {' , '.join(columns)} ( {table} )\")\n",
    "else:\n",
    "    if justTheWhere and tableJoin and condition:\n",
    "        print(f\"Sigma {justTheWhere} ( {table} |X| {condition} {tableJoin} )\")\n",
    "    elif justTheWhere:\n",
    "        print(f\"Sigma {justTheWhere} ( {table} )\")\n",
    "    elif tableJoin and condition:\n",
    "        print(f\"{table} |X| {condition} {tableJoin}\")\n",
    "    else:\n",
    "        print(table)\n"
   ]
  },
  {
   "cell_type": "code",
   "execution_count": null,
   "id": "f9d70363-afb7-41f8-92ac-07eafc80a08d",
   "metadata": {},
   "outputs": [],
   "source": []
  },
  {
   "cell_type": "code",
   "execution_count": null,
   "id": "5c56bba9-5067-4036-b100-afd0631125cb",
   "metadata": {},
   "outputs": [],
   "source": []
  },
  {
   "cell_type": "code",
   "execution_count": 142,
   "id": "98557301-138f-46da-b2c6-617f8c150d9f",
   "metadata": {},
   "outputs": [
    {
     "name": "stdout",
     "output_type": "stream",
     "text": [
      "0\n",
      "PI idusuario , nome , datanascimento , descricao , saldoinicial , UF , Descrição ( Sigma saldoinicial < 3000 and uf = 'ce' and Descrição <> 'Conta Corrente' and idusuario > 3; ( usuario |X| usuario.idUsuario = contas.Usuario_idUsuario join tipoconta on tipoconta.idTipoConta = contas.TipoConta_idTipoConta contas ) )\n"
     ]
    }
   ],
   "source": [
    "#text = \"select Nome, DataNascimento from usuario join contas on usuario.idUsuario = contas.Usuario_idUsuario where uf = 'ce' and saldoInicial = 200\"\n",
    "#text = \"select * from usuario join contas on usuario.idUsuario = contas.Usuario_idUsuario where uf = 'ce' and saldoInicial = 200\"\n",
    "#text = \"select Nome, DataNascimento from usuario join contas on usuario.idUsuario = contas.Usuario_idUsuario\"\n",
    "#text = \"select * from usuario join contas on usuario.idUsuario = contas.Usuario_idUsuario\"\n",
    "#text = \"select * from usuario where uf = 'ce' and saldoInicial = 200\"\n",
    "text = \"select idusuario, nome, datanascimento, descricao, saldoinicial, UF, Descrição from usuario join contas on usuario.idUsuario = contas.Usuario_idUsuario join tipoconta on tipoconta.idTipoConta = contas.TipoConta_idTipoConta where saldoinicial < 3000 and uf = 'ce' and Descrição <> 'Conta Corrente' and idusuario > 3;\"\n",
    "\n",
    "columns = [col.strip() for col in text[text.index(\"select\")+6:text.index(\"from\")].split(\",\")]\n",
    "\n",
    "justTheWhere = None\n",
    "if \"where\" in text.lower():\n",
    "    justTheWhere = text[text.lower().index(\"where\")+5:].strip()\n",
    "\n",
    "table = None\n",
    "if \"from\" in text.lower():\n",
    "    table = text[text.lower().index(\"from\")+4:].split()[0]\n",
    "\n",
    "tableJoin, condition = None, None\n",
    "joins = [i for i, x in enumerate(table) if x.lower() == \"join\"]\n",
    "print (len(joins))\n",
    "if \"join\" in text.lower():\n",
    "    justTheJoin = text[text.lower().index(\"join\")+4:].strip()\n",
    "    tableJoin = justTheJoin[:justTheJoin.index(\" on \")].strip()\n",
    "    if \"where\" in justTheJoin:\n",
    "        condition = justTheJoin[justTheJoin.index(\" on \")+4:justTheJoin.index(\" where \")].strip()\n",
    "    else:\n",
    "        condition = justTheJoin[justTheJoin.index(\" on \")+4:].strip()\n",
    "\n",
    "if \"*\" not in text:\n",
    "    if justTheWhere and tableJoin and condition:\n",
    "        print(f\"PI {' , '.join(columns)} ( Sigma {justTheWhere} ( {table} |X| {condition} {tableJoin} ) )\")\n",
    "    elif justTheWhere:\n",
    "        print(f\"PI {' , '.join(columns)} ( Sigma {justTheWhere} ( {table} ) )\")\n",
    "    elif tableJoin and condition:\n",
    "        print(f\"PI {' , '.join(columns)} ( {table} |X| {condition} {tableJoin} )\")\n",
    "    else:\n",
    "        print(f\"PI {' , '.join(columns)} ( {table} )\")\n",
    "else:\n",
    "    if justTheWhere and tableJoin and condition:\n",
    "        print(f\"Sigma {justTheWhere} ( {table} |X| {condition} {tableJoin} )\")\n",
    "    elif justTheWhere:\n",
    "        print(f\"Sigma {justTheWhere} ( {table} )\")\n",
    "    elif tableJoin and condition:\n",
    "        print(f\"{table} |X| {condition} {tableJoin}\")\n",
    "    else:\n",
    "        print(table)\n"
   ]
  },
  {
   "cell_type": "code",
   "execution_count": 110,
   "id": "f6308e36-0df8-423f-9e90-7bee60ad8b60",
   "metadata": {},
   "outputs": [],
   "source": [
    "# expressão para identificar a tabela principal da consulta\n",
    "table_regex = r\"from\\s+(\\w+)\\s+\"\n",
    "\n",
    "# expressão para identificar cada cláusula join, com sua respectiva tabela e condição de junção\n",
    "join_regex = r\"join\\s+(\\w+)\\s+on\\s+(.+?)\\s+(?=(join|$))\"\n"
   ]
  },
  {
   "cell_type": "code",
   "execution_count": 131,
   "id": "24fd27c2-81b1-44eb-9f7b-0a61048a6943",
   "metadata": {},
   "outputs": [
    {
     "name": "stdout",
     "output_type": "stream",
     "text": [
      "PI idusuario , nome , datanascimento , descricao , saldoinicial , UF , Descrição ( Sigma saldoinicial < 3000 and uf = 'ce' and Descrição <> 'Conta Corrente' and idusuario > 3; ( usuario |X| usuario.idusuario = contas.usuario_idusuario contas |X| tipoconta.idtipoconta = contas.tipoconta_idtipoconta where saldoinicial < 3000 and uf = 'ce' and descrição <> 'conta corrente' and idusuario > 3; tipoconta ) )\n"
     ]
    }
   ],
   "source": [
    "text = \"select idusuario, nome, datanascimento, descricao, saldoinicial, UF, Descrição from usuario join contas on usuario.idUsuario = contas.Usuario_idUsuario join tipoconta on tipoconta.idTipoConta = contas.TipoConta_idTipoConta where saldoinicial < 3000 and uf = 'ce' and Descrição <> 'Conta Corrente' and idusuario > 3;\"\n",
    "\n",
    "columns = [col.strip() for col in text[text.index(\"select\")+6:text.index(\"from\")].split(\",\")]\n",
    "\n",
    "justTheWhere = None\n",
    "if \"where\" in text.lower():\n",
    "    justTheWhere = text[text.lower().index(\"where\")+5:].strip()\n",
    "\n",
    "table = None\n",
    "if \"from\" in text.lower():\n",
    "    table = text[text.lower().index(\"from\")+4:].split()[0]\n",
    "\n",
    "joins = []\n",
    "join_conditions = []\n",
    "for join_clause in text.lower().split(\"join\")[1:]:\n",
    "    join_table = join_clause.strip().split()[0]\n",
    "    if \" on \" in join_clause:\n",
    "        join_condition = join_clause.strip().split(\" on \")[1].strip()\n",
    "    else:\n",
    "        join_condition = None\n",
    "    joins.append(join_table)\n",
    "    join_conditions.append(join_condition)\n",
    "\n",
    "if \"*\" not in text:\n",
    "    if justTheWhere and joins and all(join_conditions):\n",
    "        join_tables = \" |X| \".join([f\"{join_condition} {join_table}\" for join_table, join_condition in zip(joins, join_conditions)])\n",
    "        print(f\"PI {' , '.join(columns)} ( Sigma {justTheWhere} ( {table} |X| {join_tables} ) )\")\n",
    "    elif justTheWhere:\n",
    "        print(f\"PI {' , '.join(columns)} ( Sigma {justTheWhere} ( {table} ) )\")\n",
    "    elif joins and all(join_conditions):\n",
    "        join_tables = \" |X| \".join([f\"{join_condition} {join_table}\" for join_table, join_condition in zip(joins, join_conditions)])\n",
    "        print(f\"PI {' , '.join(columns)} ( {table} |X| {join_tables} )\")\n",
    "    else:\n",
    "        print(f\"PI {' , '.join(columns)} ( {table} )\")\n",
    "else:\n",
    "    if justTheWhere and joins and all(join_conditions):\n",
    "        join_tables = \" |X| \".join([f\"{join_condition} {join_table}\" for join_table, join_condition in zip(joins, join_conditions)])\n",
    "        print(f\"Sigma {justTheWhere} ( {table} |X| {join_tables} )\")\n",
    "    elif justTheWhere:\n",
    "        print(f\"Sigma {justTheWhere} ( {table} )\")\n",
    "    elif joins and all(join_conditions):\n",
    "        join_tables = \" |X| \".join([f\"{join_condition} {join_table}\" for join_table, join_condition in zip(joins, join_conditions)])\n",
    "        print(f\"{table} |X| {join_tables}\")\n",
    "    else:\n",
    "        print(table)\n"
   ]
  },
  {
   "cell_type": "code",
   "execution_count": null,
   "id": "a627bbd5-97c6-4973-86f3-9bacad7ef5d6",
   "metadata": {},
   "outputs": [
    {
     "name": "stdout",
     "output_type": "stream",
     "text": [
      "PI idusuario , nome , datanascimento , descricao , saldoinicial , UF , Descrição ( Sigma saldoinicial < 3000 and uf = 'ce' and Descrição <> 'Conta Corrente' and idusuario > 3; ( contas |X| tipoconta.idTipoConta = contas.TipoConta_idTipoConta where saldoinicial < 3000 and uf = 'ce' and Descrição <> 'Conta Corrente' and idusuario > 3; tipoconta ) )\n"
     ]
    }
   ],
   "source": [
    "text = \"select idusuario, nome, datanascimento, descricao, saldoinicial, UF, Descrição from usuario join contas on usuario.idUsuario = contas.Usuario_idUsuario join tipoconta on tipoconta.idTipoConta = contas.TipoConta_idTipoConta where saldoinicial < 3000 and uf = 'ce' and Descrição <> 'Conta Corrente' and idusuario > 3;\"\n",
    "\n",
    "columns = [col.strip() for col in text[text.index(\"select\")+6:text.index(\"from\")].split(\",\")]\n",
    "\n",
    "justTheWhere = None\n",
    "if \"where\" in text.lower():\n",
    "    justTheWhere = text[text.lower().index(\"where\")+5:].strip()\n",
    "\n",
    "table = None\n",
    "if \"from\" in text.lower():\n",
    "    tableJoin = text[text.lower().index(\"from\")+4:].split()\n",
    "\n",
    "    # Detectar múltiplas palavras \"join\"\n",
    "    joins = [i for i, x in enumerate(tableJoin) if x.lower() == \"join\"]\n",
    "    if len(joins) > 1:\n",
    "        tableJoin = tableJoin[:joins[0]]\n",
    "        tableJoin = \" \".join(tableJoin) + \" \"\n",
    "        for i in range(0, len(joins)-1):\n",
    "            join = \" \".join(tableJoin[joins[i]:joins[i+1]])\n",
    "            tableJoin += join + \" \"\n",
    "        tableJoin += \" \".join(tableJoin[joins[-1]:]) + \" \"\n",
    "    else:\n",
    "        tableJoin = \" \".join(tableJoin) + \" \"\n",
    "\n",
    "    table = tableJoin.split()[0]\n",
    "\n",
    "    condition = []\n",
    "    for i in range(len(joins)+1):\n",
    "        if i == 0:\n",
    "            j = tableJoin.index(\" on \")\n",
    "            condition.append(tableJoin[j+4:].strip())\n",
    "            tableJoin = tableJoin[:j]\n",
    "        elif i == len(joins):\n",
    "            j = tableJoin.index(\" on \")\n",
    "            condition.append(tableJoin[j+4:].strip())\n",
    "            tableJoin = tableJoin[:j]\n",
    "        else:\n",
    "            j = tableJoin[joins[i-1]:].index(\" on \")\n",
    "            condition.append(tableJoin[j+4:].strip())\n",
    "            tableJoin = tableJoin[:joins[i-1]] + tableJoin[joins[i-1]+j:]\n",
    "\n",
    "    if len(condition) == 1:\n",
    "        condition = condition[0]\n",
    "\n",
    "if \"*\" not in text:\n",
    "    if justTheWhere and tableJoin and condition:\n",
    "        print(f\"PI {' , '.join(columns)} ( Sigma {justTheWhere} ( {table} |X| {condition} {tableJoin} ) )\")\n",
    "    elif justTheWhere:\n",
    "        print(f\"PI {' , '.join(columns)} ( Sigma {justTheWhere} ( {table} ) )\")\n",
    "    elif tableJoin and condition:\n",
    "        print(f\"PI {' , '.join(columns)} ( {table} |X| {condition} {tableJoin} )\")\n",
    "    else:\n",
    "        print(f\"PI {' , '.join(columns)} ( {table} )\")\n",
    "else:\n",
    "    if justTheWhere and tableJoin and condition:\n",
    "        print(f\"Sigma {justTheWhere} ( {table} |X| {condition} {tableJoin} )\")\n",
    "    elif justTheWhere:\n",
    "        print(f\"Sigma {justTheWhere} ( {table} )\")\n",
    "    elif tableJoin and condition:\n",
    "        print(f\"{table} |X| {condition} {tableJoin}\")\n",
    "    else:\n",
    "        print(table)\n"
   ]
  },
  {
   "cell_type": "code",
   "execution_count": null,
   "id": "574540b3-0552-4f19-b86d-4cc7b0962cad",
   "metadata": {},
   "outputs": [],
   "source": []
  },
  {
   "cell_type": "code",
   "execution_count": null,
   "id": "f2b18e75-d2a1-4e22-9f37-546f43c80dd0",
   "metadata": {},
   "outputs": [],
   "source": []
  },
  {
   "cell_type": "code",
   "execution_count": null,
   "id": "790a0c48-7b21-481f-93d3-0297f532bfa4",
   "metadata": {},
   "outputs": [],
   "source": []
  },
  {
   "cell_type": "code",
   "execution_count": null,
   "id": "17391792-aeaf-40f5-a114-718d11467a6a",
   "metadata": {},
   "outputs": [],
   "source": []
  },
  {
   "cell_type": "code",
   "execution_count": null,
   "id": "c2cd96d9-1bf2-4459-a7a4-430595f15386",
   "metadata": {},
   "outputs": [],
   "source": []
  },
  {
   "cell_type": "code",
   "execution_count": null,
   "id": "25a3283f-140e-48b2-9428-f6312dfcb205",
   "metadata": {},
   "outputs": [],
   "source": []
  },
  {
   "cell_type": "code",
   "execution_count": null,
   "id": "1a8a481b-7720-4824-a5ee-8feaf3956009",
   "metadata": {},
   "outputs": [],
   "source": []
  },
  {
   "cell_type": "code",
   "execution_count": null,
   "id": "3bd22dbf-00f0-491b-a998-4784ba70d09b",
   "metadata": {},
   "outputs": [],
   "source": []
  },
  {
   "cell_type": "code",
   "execution_count": null,
   "id": "448c4a7f-ba93-4d91-bf67-a8427795c1a1",
   "metadata": {},
   "outputs": [],
   "source": []
  },
  {
   "cell_type": "code",
   "execution_count": null,
   "id": "be88ddd9-2202-4f70-9571-eeb4308b1ab9",
   "metadata": {},
   "outputs": [],
   "source": []
  },
  {
   "cell_type": "code",
   "execution_count": null,
   "id": "8096a004-f907-4309-b963-1c1760b3e296",
   "metadata": {},
   "outputs": [],
   "source": []
  }
 ],
 "metadata": {
  "kernelspec": {
   "display_name": "Python 3 (ipykernel)",
   "language": "python",
   "name": "python3"
  },
  "language_info": {
   "codemirror_mode": {
    "name": "ipython",
    "version": 3
   },
   "file_extension": ".py",
   "mimetype": "text/x-python",
   "name": "python",
   "nbconvert_exporter": "python",
   "pygments_lexer": "ipython3",
   "version": "3.9.13"
  }
 },
 "nbformat": 4,
 "nbformat_minor": 5
}
