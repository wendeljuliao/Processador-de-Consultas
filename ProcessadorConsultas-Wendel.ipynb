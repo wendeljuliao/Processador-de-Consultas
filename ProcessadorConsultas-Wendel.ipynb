{
 "cells": [
  {
   "cell_type": "code",
   "execution_count": 11,
   "id": "3d9e60d3-f77f-49e9-96e4-8f16cbd053a5",
   "metadata": {},
   "outputs": [],
   "source": [
    "import re"
   ]
  },
  {
   "cell_type": "markdown",
   "id": "09b64695-7832-4cd1-9103-909df6c92f58",
   "metadata": {},
   "source": [
    "## Entrada do Usuário"
   ]
  },
  {
   "cell_type": "code",
   "execution_count": 12,
   "id": "220cd396-78e4-48a9-9ca8-bdf481bb2db6",
   "metadata": {},
   "outputs": [],
   "source": [
    "database = {\n",
    "    \"Usuario\": [\"idUsuario\", \"Nome\", \"Logradouro\", \"Numero\", \"Bairro\", \"CEP\", \"UF\", \"DataNascimento\"],\n",
    "    \"Contas\": [\"idConta\", \"Descricao\", \"TipoConta_idTipoConta\", \"Usuario_idUsuario\", \"SaldoInicial\"],\n",
    "    \"Movimentacao\": [\"idMovimentacao\", \"DataMovimentacao\", \"Descricao\", \"TipoMovimento_idTipoMovimento\", \"Categoria_idCategoria\", \"Contas_idConta\", \"Valor\"],\n",
    "    \"TipoConta\": [\"idTipoConta\", \"Descricao\"],\n",
    "    \"TipoMovimento\": [\"idTipoMovimento\", \"DescMovimentacao\"],\n",
    "    \"Categoria\": [\"idCategoria\", \"DescCategoria\"]\n",
    "}"
   ]
  },
  {
   "cell_type": "code",
   "execution_count": 65,
   "id": "4cc7d0f6-81ff-4686-97a0-7fb36eb82562",
   "metadata": {},
   "outputs": [],
   "source": [
    "operators = ['=', '>', '<', '<=', '>=', '<>', 'And', 'In', 'Not In']"
   ]
  },
  {
   "cell_type": "code",
   "execution_count": 13,
   "id": "306523ef-641d-40bc-893d-d71e5a88a5a5",
   "metadata": {},
   "outputs": [
    {
     "data": {
      "text/plain": [
       "\"Select nome, datanascimento, descricao, saldoinicial from usuario join contas on usuario.idUsuario = contas.Usuario_idUsuario where saldoinicial >=235 and uf ='ce' and cep <> '62930000';\""
      ]
     },
     "execution_count": 13,
     "metadata": {},
     "output_type": "execute_result"
    }
   ],
   "source": [
    "#entradaUsuario = input(\"Escreva o comando SQL\")\n",
    "entradaUsuario = \"Select nome, datanascimento, descricao, saldoinicial from usuario join contas on usuario.idUsuario = contas.Usuario_idUsuario where saldoinicial >=235 and uf ='ce' and cep <> '62930000';\"\n",
    "#entradaUsuario = \"Select idusuario, nome, datanascimento, descricao, saldoinicial, UF, Descrição from usuario join contas on usuario.idUsuario = contas.Usuario_idUsuario join tipoconta on tipoconta.idTipoConta = contas.TipoConta_idTipoConta where saldoinicial < 3000 and uf = 'ce' and Descrição <> 'Conta Corrente' and idusuario > 3;\"\n",
    "\n",
    "entradaUsuario"
   ]
  },
  {
   "cell_type": "markdown",
   "id": "2cb42d38-9875-467c-93d8-49c447cef693",
   "metadata": {},
   "source": [
    "## Grafo de Operadores"
   ]
  },
  {
   "cell_type": "code",
   "execution_count": 14,
   "id": "0ef502c1-fd7d-4727-9531-36165d5d73d0",
   "metadata": {},
   "outputs": [],
   "source": [
    "class Vertice:\n",
    "    def __init__(self, valor):\n",
    "        self.valor = valor\n",
    "        self.adjacentes = []\n",
    "\n",
    "    def add_adjacente(self, adjacente):\n",
    "        self.adjacentes.append(adjacente)\n",
    "        \n",
    "class Grafo:\n",
    "    def __init__(self):\n",
    "        self.vertices = []\n",
    "\n",
    "    def add_vertice(self, valor):\n",
    "        vertice = Vertice(valor)\n",
    "        self.vertices.append(vertice)\n",
    "        return vertice\n",
    "\n",
    "    def add_aresta(self, v1, v2):\n",
    "        v1.add_adjacente(v2)\n",
    "        v2.add_adjacente(v1)\n",
    "\n",
    "        \n",
    "    "
   ]
  },
  {
   "cell_type": "code",
   "execution_count": 15,
   "id": "812c0c52-71d8-4714-a700-72cb07e7656d",
   "metadata": {},
   "outputs": [],
   "source": [
    "teste = [\n",
    " { 'id': 0, 'valor': 'select', 'tipo': 'comando' },\n",
    " { 'id': 1, 'valor': ['nome', 'datanascimento', 'descricao', 'saldoinicial'], 'tipo': 'banco_de_dados' },\n",
    " { 'id': 2, 'valor': 'from', 'tipo': 'comando' },\n",
    " { 'id': 3, 'valor': 'usuario', 'tipo': 'banco_de_dados' },\n",
    " { 'id': 4, 'valor': 'join', 'tipo': 'comando' },\n",
    " { 'id': 5, 'valor': 'contas', 'tipo': 'banco_de_dados' },\n",
    " { 'id': 6, 'valor': 'on', 'tipo': 'comando' },\n",
    " { 'id': 7, 'valor': { 'primeira_chave': 'idUsuario', 'operador': '=', 'segunda_chave': 'Usuario_idUsuario' }, 'tipo': 'relacao' },\n",
    "]"
   ]
  },
  {
   "cell_type": "code",
   "execution_count": 646,
   "id": "ad8084f1-2b47-493b-b79c-95c9aa657e16",
   "metadata": {},
   "outputs": [],
   "source": [
    "testeBase = \"Pi Nome ( Sigma Uf = 'CE' ( USUARIO |X| usuario.idusuario = contas.usuario_idusuario CONTAS ) )\"\n",
    "testeBase2 = \"Pi Nome ( Sigma Uf = 'CE' and SaldoInicial = 200 ( USUARIO |X| usuario.idusuario = contas.usuario_idusuario CONTAS ) )\"\n",
    "\n",
    "teste1 = \"SIGMA UF = 'CE'(USUARIO)\"\n",
    "teste2 = 'PI Nome, Datanascimento, idConta, Descricao (usuario |X|usuario.idusuario = Contas.Usuario_idUsuario Contas)'\n",
    "teste3 = 'PI Nome, Datanascimento, idConta, Descricao ( SIGMA UF = \"CE\" AND NOME = \"ALEX\" ( usuario |X|usuario.idusuario = Contas.Usuario_idUsuario Contas) |X|Teste.Usuario_idUsuario = Contas.Usuario_idUsuario Contas)'\n",
    "teste4 = 'PI Nome((SIGMA Categoria.nome = \"VIP\"(Categoria))|X|Cliente.CodCat = Categoria.codCat Cliente))'"
   ]
  },
  {
   "cell_type": "code",
   "execution_count": 647,
   "id": "aa0febd2-602e-4b36-b364-648bb96dd308",
   "metadata": {},
   "outputs": [],
   "source": [
    "def extract_values_alg_rel(texto):\n",
    "    array_aux = []\n",
    "    \n",
    "    # ------------- PI ---------------\n",
    "    expressaoPI = r\"PI\\s+(.+?)(?=\\()\"\n",
    "    \n",
    "    matchPI = re.search(expressaoPI, texto)\n",
    "    \n",
    "    if matchPI != None:\n",
    "        array_aux.append(matchPI.group(0).strip())\n",
    "    \n",
    "    # ------------- SIGMA ---------------\n",
    "    expressaoSIGMA = r\".*SIGMA\\s+(.+?)(?=\\()\"\n",
    "    \n",
    "    matchSIGMA = re.search(expressaoSIGMA, texto)\n",
    "    \n",
    "    if matchSIGMA != None:\n",
    "        array_aux.append(matchSIGMA.group(1).strip())\n",
    "        \n",
    "    # ------------- PRODUTO CARTESIANO ---------------\n",
    "    expressaoPRODCART = r\"\\|X\\|.*?([^ ]+\\s*=\\s*[^ ]+)\"\n",
    "    \n",
    "    matchPRODCART = re.findall(expressaoPRODCART, texto)\n",
    "    \n",
    "    if matchPRODCART != None:\n",
    "        array_aux.extend(matchPRODCART)\n",
    "\n",
    "    return array_aux\n",
    "   "
   ]
  },
  {
   "cell_type": "code",
   "execution_count": 648,
   "id": "95538518-66f2-4e2a-a503-eae013824349",
   "metadata": {},
   "outputs": [
    {
     "name": "stdout",
     "output_type": "stream",
     "text": [
      "['PI Nome, Datanascimento, idConta, Descricao', 'UF = \"CE\" AND NOME = \"ALEX\"', 'usuario.idusuario = Contas.Usuario_idUsuario', 'Teste.Usuario_idUsuario = Contas.Usuario_idUsuario']\n"
     ]
    }
   ],
   "source": [
    "values_extracted = extract_values_alg_rel(teste3)\n",
    "\n",
    "print(values_extracted)"
   ]
  },
  {
   "cell_type": "markdown",
   "id": "acf1b6c3-5544-418e-9afb-9481c026b803",
   "metadata": {},
   "source": [
    "Pi Nome ( Sigma Uf = 'Ce' ^ usuario.idusuario = contas.usuario_idusuario (usuario X contas))\n",
    "\n",
    "\n",
    "Pi Nome ( Sigma Uf = 'CE' (USUARIO |X| usuario.idusuario = contas.usuario_idusuario CONTAS))\n",
    "Pi Nome (  ( (Sigma Uf = 'CE'(USUARIO)) |X| usuario.idusuario = contas.usuario_idusuario CONTAS))\n",
    "Pi Nome (  ( (Pi Nome, idusuario (Sigma Uf = 'CE'(USUARIO)) ) |X| usuario.idusuario = contas.usuario_idusuario CONTAS))\n",
    "\n",
    "                 Pi Nome \n",
    "                   |\n",
    "|X| usuario.idusuario = contas.usuario_idusuario\n",
    "             /            \\\n",
    "            /              \\\n",
    "    Pi Nome, idusuario   CONTAS\n",
    "            |\n",
    "      Sigma Uf = 'CE'\n",
    "            |\n",
    "         USUARIO"
   ]
  },
  {
   "cell_type": "code",
   "execution_count": 649,
   "id": "f9598465-1df9-4971-ab0e-8f82da5f7c75",
   "metadata": {},
   "outputs": [],
   "source": [
    "def optimization_alg_rel(text):\n",
    "    text_lower_case = text.lower()\n",
    "    \n",
    "    splited_text = text_lower_case.split()\n",
    "    \n",
    "    index_sigma = splited_text.index('sigma')\n",
    "    array_fields = []\n",
    "    \n",
    "    for i in range(index_sigma + 1, len(splited_text)):\n",
    "        if splited_text[i] in operators:\n",
    "            array_fields.append({ \"field\": splited_text[i - 1], \"operator\": splited_text[i],\"value\": splited_text[i + 1]})\n",
    "    \n",
    "        if splited_text[i].find('(') != -1:\n",
    "            break\n",
    "            \n",
    "    #print(array_fields)\n",
    "    \n",
    "    dict_tables_aux = { \n",
    "        \"Usuario\": [],\n",
    "        \"Contas\": [],\n",
    "        \"Movimentacao\": [],\n",
    "        \"TipoConta\": [],\n",
    "        \"TipoMovimento\": [],\n",
    "        \"Categoria\": []\n",
    "    }\n",
    "    \n",
    "    for dict_field in array_fields:\n",
    "        for table in database.keys():\n",
    "            achou = dict_field.get('field').lower() in [x.lower() for x in database.get(table)]\n",
    "            if achou:\n",
    "                dict_tables_aux.get(table).append(dict_field)   \n",
    "        #print(dict_field)\n",
    "        \n",
    "    text_lower_case = text_lower_case.replace(\"sigma\", '')\n",
    "    for table in dict_tables_aux.keys():\n",
    "        cont = 0\n",
    "        array_aux = dict_tables_aux.get(table)\n",
    "                \n",
    "        if len(array_aux) > 0:\n",
    "            textTransformed = '( sigma'\n",
    "            \n",
    "            for dict_aux in array_aux:      \n",
    "                textBase = dict_aux.get('field') + \" \" + dict_aux.get('operator') + \" \" + dict_aux.get('value')\n",
    "\n",
    "                text_lower_case = text_lower_case.replace(textBase, '')\n",
    "                \n",
    "                #print(text_lower_case)\n",
    "                if cont > 0:\n",
    "                    textTransformed = textTransformed + \" ( \" + textBase \n",
    "                else:\n",
    "                    textTransformed = textTransformed + \" \" + textBase \n",
    "                    \n",
    "                cont += 1\n",
    "                \n",
    "                if cont >= len(array_aux):\n",
    "                    textTransformed += \" ( \" + table + \" ) \" + \" \".join([\")\" for i in range(cont)])\n",
    "                    #print(textTransformed)\n",
    "                    \n",
    "            text_lower_case = re.sub(r\"(\\(|\\b)\" + table.lower() + r\"(\\)|\\b)(?!\\.\\w)\", textTransformed, text_lower_case)\n",
    "            # text_lower_case = text_lower_case.replace(textBase, textTransformed)\n",
    "    text_lower_case = text_lower_case.replace('and', '')\n",
    "    text_lower_case = \" \".join(text_lower_case.split())\n",
    "    \n",
    "    return text_lower_case"
   ]
  },
  {
   "cell_type": "code",
   "execution_count": 652,
   "id": "6cd2e3c1-b765-4002-9662-61172c634378",
   "metadata": {},
   "outputs": [
    {
     "name": "stdout",
     "output_type": "stream",
     "text": [
      "pi nome ( ( ( sigma uf = 'ce' ( Usuario ) ) |x| usuario.idusuario = contas.usuario_idusuario ( sigma saldoinicial = 200 ( Contas ) ) ) )\n"
     ]
    }
   ],
   "source": [
    "alg_rel_optimized = optimization_alg_rel(testeBase2)\n",
    "\n",
    "print(alg_rel_optimized)"
   ]
  },
  {
   "cell_type": "code",
   "execution_count": null,
   "id": "2c9b597e-5fac-49db-b4be-a54973fabd87",
   "metadata": {},
   "outputs": [],
   "source": []
  }
 ],
 "metadata": {
  "kernelspec": {
   "display_name": "Python 3 (ipykernel)",
   "language": "python",
   "name": "python3"
  },
  "language_info": {
   "codemirror_mode": {
    "name": "ipython",
    "version": 3
   },
   "file_extension": ".py",
   "mimetype": "text/x-python",
   "name": "python",
   "nbconvert_exporter": "python",
   "pygments_lexer": "ipython3",
   "version": "3.10.9"
  }
 },
 "nbformat": 4,
 "nbformat_minor": 5
}
