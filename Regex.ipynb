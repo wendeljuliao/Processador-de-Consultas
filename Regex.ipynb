{
 "cells": [
  {
   "cell_type": "code",
   "execution_count": 2,
   "metadata": {},
   "outputs": [],
   "source": [
    "import re"
   ]
  },
  {
   "cell_type": "code",
   "execution_count": 2,
   "metadata": {},
   "outputs": [],
   "source": [
    "Parse = [\"SELECT\", \"FROM\", \"WHERE\", \"JOIN ON\", \"=\", \">\", \"<\", \"<=\", \">=\", \"<>\", \"AND\", \"IN\", \"NOT IN\", \"(\" , \")\" ]"
   ]
  },
  {
   "cell_type": "code",
   "execution_count": 3,
   "metadata": {},
   "outputs": [],
   "source": [
    "exemplo = '''Select tabela1.coluna1, tabela2.coluna2\n",
    "From tabela1\n",
    "Join tabela2 ON tabela1.chave = tabela2.chave'''"
   ]
  },
  {
   "cell_type": "code",
   "execution_count": 5,
   "metadata": {},
   "outputs": [
    {
     "ename": "SyntaxError",
     "evalue": "unexpected character after line continuation character (131737480.py, line 1)",
     "output_type": "error",
     "traceback": [
      "\u001b[1;36m  Cell \u001b[1;32mIn [5], line 1\u001b[1;36m\u001b[0m\n\u001b[1;33m    (\\s(=|>|<|<=|>=|<>)\\s)(.*?)(?=(=|>|<|<=|>=|<>)\\s)\u001b[0m\n\u001b[1;37m      ^\u001b[0m\n\u001b[1;31mSyntaxError\u001b[0m\u001b[1;31m:\u001b[0m unexpected character after line continuation character\n"
     ]
    }
   ],
   "source": [
    "(\\s(=|>|<|<=|>=|<>)\\s)(.*?)(?=(=|>|<|<=|>=|<>)\\s)"
   ]
  },
  {
   "cell_type": "code",
   "execution_count": null,
   "metadata": {},
   "outputs": [
    {
     "name": "stdout",
     "output_type": "stream",
     "text": [
      "<re.Match object; span=(0, 14), match='SELECT * FROM '>\n",
      "SELECT * FROM \n"
     ]
    }
   ],
   "source": [
    "import re\n",
    "\n",
    "sql = \"SELECT * FROM mytable WHERE column1 = 'value1' AND column2 > 10 AND column3 LIKE '%value3%'\"\n",
    "\n",
    "# Extrai o WHERE e todos os ANDs subsequentes\n",
    "matches = re.search(r\"\\bSELECT\\b\\s.*?\\s\\bFROM\\b\\s.*?(?:\\bWHERE\\b\\s.*?(?:\\bAND\\b\\s.*?)+)?\", sql)\n",
    "print(matches)\n",
    "if matches:\n",
    "    # Imprime a parte capturada do WHERE\n",
    "    print(matches.group(0))\n",
    "    \n",
    "    # Imprime todas as ocorrências dos AND subsequentes\n",
    "    ands = matches.groups()[1:]\n",
    "    for and_clause in ands:\n",
    "        if and_clause:\n",
    "            print(and_clause)\n"
   ]
  },
  {
   "cell_type": "code",
   "execution_count": null,
   "metadata": {},
   "outputs": [],
   "source": [
    "BancoSQL = {\n",
    "\n",
    "    \"tabela1\": {\n",
    "    \n",
    "        \"coluna1\":[\"boa\",\"tarde\",\"rapaziada\"],\n",
    "        \"chave\":[\"c1\",\"c2\",\"c3\"]\n",
    "\n",
    "    },\n",
    "\n",
    "    \"tabela2\": {\n",
    "    \n",
    "        \"coluna2\":[\"boa2\",\"tarde2\",\"rapaziada2\"],\n",
    "        \"chave\":[\"c1\",\"c2\",\"c3\"]\n",
    "\n",
    "    }\n",
    "\n",
    "\n",
    "\n",
    "\n",
    "}"
   ]
  },
  {
   "cell_type": "code",
   "execution_count": null,
   "metadata": {},
   "outputs": [
    {
     "data": {
      "text/plain": [
       "'SELECT *\\nFROM tabela\\nWHERE coluna1 = valor1 AND coluna2 > valor2 AND coluna3 <> valor3;'"
      ]
     },
     "execution_count": 5,
     "metadata": {},
     "output_type": "execute_result"
    }
   ],
   "source": [
    "'''SELECT *\n",
    "FROM tabela\n",
    "WHERE coluna1 = valor1 AND coluna2 > valor2 AND coluna3 <> valor3;'''"
   ]
  },
  {
   "cell_type": "code",
   "execution_count": null,
   "metadata": {},
   "outputs": [
    {
     "data": {
      "text/plain": [
       "('=', '>', '<', '<=', '>=', '<>')"
      ]
     },
     "execution_count": 6,
     "metadata": {},
     "output_type": "execute_result"
    }
   ],
   "source": [
    "\"=\", \">\", \"<\", \"<=\", \">=\", \"<>\""
   ]
  },
  {
   "cell_type": "code",
   "execution_count": null,
   "metadata": {},
   "outputs": [
    {
     "name": "stdout",
     "output_type": "stream",
     "text": [
      "['=']\n"
     ]
    }
   ],
   "source": [
    "import re\n",
    "\n",
    "texto = \"Idade = 30\"\n",
    "\n",
    "padrao = r\"=\"\n",
    "\n",
    "resultado = re.findall(padrao, texto)\n",
    "\n",
    "print(resultado)  # Saída: ['=']"
   ]
  },
  {
   "cell_type": "code",
   "execution_count": null,
   "metadata": {},
   "outputs": [],
   "source": [
    "^\\bSelect\\b(.*?)\\bFrom\\b((.*?)\\bJoin\\b(.*?)\\bOn\\b)  ?((.*?)(\\bWhere\\b)?(.*?)(\\bAnd\\b(.*?)))?"
   ]
  },
  {
   "cell_type": "code",
   "execution_count": null,
   "metadata": {},
   "outputs": [],
   "source": [
    "^\\bSelect\\b(.*?)\\bFrom\\b((.*?)(\\bJoin\\b)(.*?)(\\bOn\\b))+((.*?)\\bWhere\\b)?((.*?)(\\bAnd\\b))+.*$\n",
    "\n",
    "(\\bJoin\\b\\s(.*?)\\s\\bOn\\b)*"
   ]
  },
  {
   "cell_type": "code",
   "execution_count": null,
   "metadata": {},
   "outputs": [
    {
     "data": {
      "text/plain": [
       "'A expressão regular r\\'^\\\\s*select\\x08.*\\x08from\\x08.*$\\' usa os seguintes elementos:\\n\\n^: Corresponde ao início da string.\\n\\\\s*: Corresponde a zero ou mais espaços em branco no início da string.\\nselect: Corresponde à palavra \"select\" em minúsculas ou maiúsculas.\\n\\x08: Corresponde a um limite de palavra, garantindo que \"select\" e \"from\" sejam palavras inteiras, e não partes de outras palavras.\\n.*: Corresponde a zero ou mais caracteres, exceto quebras de linha.\\nfrom: Corresponde à palavra \"from\" em minúsculas ou maiúsculas.\\n\\x08: Corresponde a um limite de palavra, garantindo que \"select\" e \"from\" sejam palavras inteiras, e não partes de outras palavras.\\n.*: Corresponde a zero ou mais caracteres, exceto quebras de linha.\\n$: Corresponde ao final da string.\\nre.IGNORECASE: Faz com que a expressão regular seja case-insensitive, ou seja, correspondendo tanto a \"select\" como \"SELECT\".\\n\\n. - Corresponde a qualquer caractere, exceto quebras de linha.\\n[] - Corresponde a qualquer caractere dentro dos colchetes. Por exemplo, [abc] corresponde a \"a\", \"b\" ou \"c\".\\n[^] - Corresponde a qualquer caractere que não esteja dentro dos colchetes. Por exemplo, [^abc] corresponde a qualquer caractere que não seja \"a\", \"b\" ou \"c\".\\n- - Permite definir um intervalo dentro de colchetes. Por exemplo, [a-z] corresponde a qualquer letra minúscula de \"a\" a \"z\".\\n\\\\ - Usado para escapar de caracteres especiais, como . ou [. Também é usado para criar classes de caracteres especiais, como \\\\d ou \\\\s.\\n^ - Corresponde ao início da string. Também pode ser usado dentro de colchetes para negar uma classe de caracteres. Por exemplo, [^abc] corresponde a qualquer caractere que não seja \"a\", \"b\" ou \"c\".\\n$ - Corresponde ao final da string.\\n* - Corresponde a zero ou mais repetições do caractere anterior ou da subexpressão. Por exemplo, a* corresponde a zero ou mais \"a\"s.\\n+ - Corresponde a uma ou mais repetições do caractere anterior ou da subexpressão. Por exemplo, a+ corresponde a uma ou mais \"a\"s.\\n? - Corresponde a zero ou uma repetição do caractere anterior ou da subexpressão. Por exemplo, a? corresponde a zero ou uma \"a\".\\n{m} - Corresponde exatamente a m repetições do caractere anterior ou da subexpressão. Por exemplo, a{3} corresponde a exatamente três \"a\"s.\\n{m,n} - Corresponde a pelo menos m e no máximo n repetições do caractere anterior ou da subexpressão. Por exemplo, a{2,4} corresponde a duas, três ou quatro \"a\"s.\\n() - Cria um grupo de captura, que pode ser referenciado posteriormente na expressão regular ou em uma função que utiliza expressões regulares, como re.sub().\\n| - Corresponde a qualquer uma das alternativas fornecidas. Por exemplo, a|b corresponde a \"a\" ou \"b\".\\n\\\\d - Corresponde a qualquer dígito. É equivalente a [0-9].\\n\\\\D - Corresponde a qualquer caractere que não seja dígito. É equivalente a [^0-9].\\n\\\\s - Corresponde a qualquer caractere de espaço em branco, incluindo espaços, tabulações e quebras de linha. É equivalente a [ \\t\\n\\r\\x0c\\x0b].\\n\\\\S - Corresponde a qualquer caractere que não seja de espaço em branco. É equivalente a [^ \\t\\n\\r\\x0c\\x0b].\\n\\\\w - Corresponde a qualquer caractere alfanumérico ou sublinhado. É equivalente a [a-zA-Z0-9_].\\n\\\\W - Corresponde a qualquer caractere que não seja alfanumérico ou'"
      ]
     },
     "execution_count": 8,
     "metadata": {},
     "output_type": "execute_result"
    }
   ],
   "source": [
    "'''A expressão regular r'^\\s*select\\b.*\\bfrom\\b.*$' usa os seguintes elementos:\n",
    "\n",
    "^: Corresponde ao início da string.\n",
    "\\s*: Corresponde a zero ou mais espaços em branco no início da string.\n",
    "select: Corresponde à palavra \"select\" em minúsculas ou maiúsculas.\n",
    "\\b: Corresponde a um limite de palavra, garantindo que \"select\" e \"from\" sejam palavras inteiras, e não partes de outras palavras.\n",
    ".*: Corresponde a zero ou mais caracteres, exceto quebras de linha.\n",
    "from: Corresponde à palavra \"from\" em minúsculas ou maiúsculas.\n",
    "\\b: Corresponde a um limite de palavra, garantindo que \"select\" e \"from\" sejam palavras inteiras, e não partes de outras palavras.\n",
    ".*: Corresponde a zero ou mais caracteres, exceto quebras de linha.\n",
    "$: Corresponde ao final da string.\n",
    "re.IGNORECASE: Faz com que a expressão regular seja case-insensitive, ou seja, correspondendo tanto a \"select\" como \"SELECT\".\n",
    "\n",
    ". - Corresponde a qualquer caractere, exceto quebras de linha.\n",
    "[] - Corresponde a qualquer caractere dentro dos colchetes. Por exemplo, [abc] corresponde a \"a\", \"b\" ou \"c\".\n",
    "[^] - Corresponde a qualquer caractere que não esteja dentro dos colchetes. Por exemplo, [^abc] corresponde a qualquer caractere que não seja \"a\", \"b\" ou \"c\".\n",
    "- - Permite definir um intervalo dentro de colchetes. Por exemplo, [a-z] corresponde a qualquer letra minúscula de \"a\" a \"z\".\n",
    "\\ - Usado para escapar de caracteres especiais, como . ou [. Também é usado para criar classes de caracteres especiais, como \\d ou \\s.\n",
    "^ - Corresponde ao início da string. Também pode ser usado dentro de colchetes para negar uma classe de caracteres. Por exemplo, [^abc] corresponde a qualquer caractere que não seja \"a\", \"b\" ou \"c\".\n",
    "$ - Corresponde ao final da string.\n",
    "* - Corresponde a zero ou mais repetições do caractere anterior ou da subexpressão. Por exemplo, a* corresponde a zero ou mais \"a\"s.\n",
    "+ - Corresponde a uma ou mais repetições do caractere anterior ou da subexpressão. Por exemplo, a+ corresponde a uma ou mais \"a\"s.\n",
    "? - Corresponde a zero ou uma repetição do caractere anterior ou da subexpressão. Por exemplo, a? corresponde a zero ou uma \"a\".\n",
    "{m} - Corresponde exatamente a m repetições do caractere anterior ou da subexpressão. Por exemplo, a{3} corresponde a exatamente três \"a\"s.\n",
    "{m,n} - Corresponde a pelo menos m e no máximo n repetições do caractere anterior ou da subexpressão. Por exemplo, a{2,4} corresponde a duas, três ou quatro \"a\"s.\n",
    "() - Cria um grupo de captura, que pode ser referenciado posteriormente na expressão regular ou em uma função que utiliza expressões regulares, como re.sub().\n",
    "| - Corresponde a qualquer uma das alternativas fornecidas. Por exemplo, a|b corresponde a \"a\" ou \"b\".\n",
    "\\d - Corresponde a qualquer dígito. É equivalente a [0-9].\n",
    "\\D - Corresponde a qualquer caractere que não seja dígito. É equivalente a [^0-9].\n",
    "\\s - Corresponde a qualquer caractere de espaço em branco, incluindo espaços, tabulações e quebras de linha. É equivalente a [ \\t\\n\\r\\f\\v].\n",
    "\\S - Corresponde a qualquer caractere que não seja de espaço em branco. É equivalente a [^ \\t\\n\\r\\f\\v].\n",
    "\\w - Corresponde a qualquer caractere alfanumérico ou sublinhado. É equivalente a [a-zA-Z0-9_].\n",
    "\\W - Corresponde a qualquer caractere que não seja alfanumérico ou'''"
   ]
  },
  {
   "cell_type": "code",
   "execution_count": null,
   "metadata": {},
   "outputs": [
    {
     "name": "stdout",
     "output_type": "stream",
     "text": [
      "tabela2\n",
      "tabela3\n"
     ]
    }
   ],
   "source": [
    "import re\n",
    "\n",
    "# Exemplo de string contendo vários \"Join ... On ...\"\n",
    "consulta_sql = \"SELECT * FROM tabela1 Join tabela2 On tabela1.id = tabela2.id Join tabela3 On tabela2.id = tabela3.id\"\n",
    "\n",
    "# Expressão regular para capturar os valores entre vários \"Join ... On ...\"\n",
    "regex = r\"\\bJoin\\b(.*?)\\bOn\\b\"\n",
    "\n",
    "# Encontrar todas as ocorrências da expressão regular na string de consulta SQL\n",
    "resultados = re.findall(regex, consulta_sql)\n",
    "\n",
    "# Imprimir todos os valores capturados entre \"Join\" e \"On\"\n",
    "for resultado in resultados:\n",
    "    print(resultado.strip()) # .strip() remove espaços em branco do início e do final do valor capturado\n"
   ]
  },
  {
   "attachments": {},
   "cell_type": "markdown",
   "metadata": {},
   "source": [
    "melhro ate agr"
   ]
  },
  {
   "cell_type": "code",
   "execution_count": 6,
   "metadata": {},
   "outputs": [],
   "source": [
    "\n",
    "database = {\n",
    "    \"Usuario\": [\"idUsuario\", \"Nome\", \"Logradouro\", \"Numero\", \"Bairro\", \"CEP\", \"UF\", \"DataNascimento\"],\n",
    "    \"Contas\": [\"idConta\", \"Descricao\", \"TipoConta_idTipoConta\", \"Usuario_idUsuario\", \"SaldoInicial\"],\n",
    "    \"Movimentacao\": [\"idMovimentacao\", \"DataMovimentacao\", \"Descricao\", \"TipoMovimento_idTipoMovimento\", \"Categoria_idCategoria\", \"Contas_idConta\", \"Valor\"],\n",
    "    \"TipoConta\": [\"idTipoConta\", \"Descrição\"],\n",
    "    \"TipoMovimento\": [\"idTipoMovimento\", \"DescMovimentacao\"],\n",
    "    \"Categoria\": [\"idCategoria\", \"DescCategoria\"]\n",
    "}"
   ]
  },
  {
   "cell_type": "code",
   "execution_count": null,
   "metadata": {},
   "outputs": [],
   "source": [
    "        #fazer colunas no regex\n",
    "    #(?:\\bAND\\b(.*?)(?:(\\=|\\>|\\<|\\<\\=|\\>\\=|\\<\\>)))\n",
    "    #pattern = r\"^\\bSelect\\b(.*?)\\bFrom\\b(.*?)(?:\\bwhere\\b(.*?))?(?:\\band\\b(.*?)(?:\\band\\b|$)(.*?))*$\"\n",
    "    #pattern = r\"^\\bSelect\\b(.*?)\\bFrom\\b(.*?)$\"    \n",
    "#\"(?:(\\=|\\>|\\<|\\<\\=|\\>\\=|\\<\\>))(.*?))?(?:\\band\\b(.*?)(?=\\band\\b|$)\"\n",
    "    #pattern = r\"^\\bSELECT\\b(.*?)\\bFROM\\b(.*?)(?:\\bJoin\\b(.*?)\\bOn\\b(.*?)(?:\\=|\\>|\\<|\\<\\=|\\>\\=|\\<\\>|\\;))\"#\"^\\bSelect\\b(.*?)\\bFrom\\b(.*?)(?:\\bJoin\\b(.*?)\\bOn\\b(.*?)\\bJoin\\b)*;\"\n",
    "    #pattern = r\"^\\bSelect\\b(.*?)\\bFrom\\b(.*?)(?:\\bwhere\\b(.*?))*;\"\n",
    "    #pattern = r\"(?:\\bAND\\b\\s)(.*?)(?:(\\bAND\\b|;))\"\n",
    "    #pattern = r\"\\bAND\\b(.*?)\\bAND\\b\"\n",
    "    #pattern = r\"(?:\\bJoin\\b(.*?)\\bOn\\b)*\"\n",
    "    #pattern = r\"^\\bSelect\\b(.*?)\\bFrom\\b(.*?)(?:\\bJoin\\b(.*?)\\bOn\\b(.*?))*(\\bWhere\\b(.*?)(?:=|>|<|<=|>=|<>)(\\d))?;\"\n",
    "    #pattern = r\"^\\bSELECT\\b((?:(?!\\bJOIN\\b|\\bON\\b|\\bAND\\b|\\bIN\\b|\\bNOT\\b=|>|<|\\s\\d\\s).)*?)\\s\\bFROM\\b\\s(.*?)(?:\\s\\bJOIN\\b\\s((?:(?!\\bSELECT\\b|\\bFROM\\b|\\bAND\\b|\\bIN\\b|\\bNOT\\b=|>|<|\\s\\d\\s).)*?)\\s\\bON\\b\\s(.*?))*(?:\\s\\bWHERE\\b\\s(.*?)(?:=|>|<|<=|>=|<>)\\s(.*?)\\s(?:\\bAND\\b\\s(.*?)(?:=|>|<|<=|>=|<>)(.*?))*)*?\\b;\"\n",
    "               #^\\bSelect\\b([^\\d]*?)\\bFrom\\b(([^\\d]*?)\\bJoin\\b([^\\d]*?)\\bOn\\b)+.*?\n",
    "    #pattern = r\"\\b=\"\n",
    "    #pattern = r\"(\\b=|\\b>|\\b<|\\b<=|\\b>=|\\b<>)\"\n",
    "    #pattern = r\"^\\bSelect\\b.(.*?).\\bFrom\\b.(.*?).(\\bJoin\\b.(.*?).\\bOn\\b)?\" #select from\"\n",
    "    #pattern = r\"^\\bSelect\\b([^\\d]*?)\\bFrom\\b(([^\\d]*?)\\bJoin\\b([^\\d]*?)\\bOn\\b)+.*?\"#\"^\\bSelect\\b(.*?)\\bFrom\\b((.*?)(\\bJoin\\b) ((.*?)((\\bOn\\b))((.*?)\\bWhere\\b)?((.*?)(\\bAnd\\b))+))(.*?)(?=(=|>|<|<=|>=|<>)\\s)\"\n",
    "    #pattern = r\"^Select.(.*?)\\bFrom.*((\\bJoin.*\\bOn.*)?.*(\\bWhere)?.*(\\bAnd)?)?.*\" #select from\n",
    "    #pattern = r\"^Select.*\\bFrom.*\\bJoin.*\\bOn.*\\bWhere.*\\bAnd\" #select from\n",
    "    #pattern = r\"(\\b=|\\b>|\\b<|\\b<=|\\b>=|\\b<>)?\"\n",
    "\n",
    "#exemplo = '''Select idusuario, nome, datanascimento, descricao, saldoinicial, UF, Descrição From usuario Join contas On usuario.idUsuario = contas.Usuario_idUsuario Join tipoconta On tipoconta.idTipoConta = contas.TipoConta_idTipoConta Where saldoinicial < 3000 And uf = 'ce' And Descrição <> 'Conta Corrente' And idusuario > 3;'''\n",
    "#exemplo = \"Select nome, datanascimento, descricao, saldoinicial from usuario join contas on usuario.idUsuario = contas.Usuario_idUsuario where saldoinicial >=235 and uf ='ce' and cep <> '62930000';\"\n",
    "#exemplo = \"select * from tabela where Usuario = usuario.idUsuario and usuario = 10 and usuario.pedro = 1;\" \n",
    "#exemplo = \"select * from tabela \"#where k = 1 and paulo = 1;\" \n",
    "#exemplo = \"select * from tabela where k = 1 join pedro on pedro and paulo = 1;\" \n",
    "    #pattern = r\"^\\bSelect\\b(.*?)\\bFrom\\b(.*?)(?:\\bwhere\\b(.*?))?(?:\\band\\b(.*?)(?=\\band\\b|$)(.*?))*$\"\n",
    "    #pattern = r\"(?:\\bjoin\\b(.*?)(?:\\bon\\b|$)(.*?))\"\n",
    "    #matches = re.findall(pattern, string, re.IGNORECASE)"
   ]
  },
  {
   "attachments": {},
   "cell_type": "markdown",
   "metadata": {},
   "source": [
    "Patters Certos:\n",
    "\n",
    "pattern = r\"^\\bSelect\\b(.*?)\\bFrom\\b(.*?)(?:\\bwhere\\b(.*?))?;\" Select From Where\n",
    "pattern = r\"^\\bSelect\\b(.*?)\\bFrom\\b(.*?)(?:\\bwhere\\b(.*?))?(?:\\bAND\\b\\s*(.*?)(?:;|\\band\\b))\" Select From Where And unico"
   ]
  },
  {
   "cell_type": "code",
   "execution_count": 36,
   "metadata": {},
   "outputs": [
    {
     "name": "stdout",
     "output_type": "stream",
     "text": [
      "(' contas ', ' idcontas = idusuario and idcontas <> idusuario ')\n",
      "['idcontas ', ' idusuario ', ' idcontas ', ' idusuario']\n",
      "(' movimentacao ', ' descricao = idmovimentacao')\n",
      "['descricao ', ' idmovimentacao']\n",
      "select usuario.nome, logradouro from usuario join contas on idcontas = idusuario and idcontas <> idusuario join movimentacao on descricao = idmovimentacao\n"
     ]
    }
   ],
   "source": [
    "import re\n",
    "\n",
    "\n",
    "database = {\n",
    "    \"usuario\": [\"idusuario\", \"nome\", \"logradouro\", \"numero\", \"bairro\", \"cep\", \"uf\", \"datanascimento\"],\n",
    "    \"contas\": [\"idconta\", \"descricao\", \"tipoconta_idtipoconta\", \"usuario_idusuario\", \"saldoinicial\"],\n",
    "    \"movimentacao\": [\"idmovimentacao\", \"datamovimentacao\", \"descricao\", \"tipomovimento_idtipomovimento\", \"categoria_idcategoria\", \"contas_idconta\", \"valor\"],\n",
    "    \"tipoconta\": [\"idtipoconta\", \"descrição\"],\n",
    "    \"tipomovimento\": [\"idtipomovimento\", \"descmovimentacao\"],\n",
    "    \"categoria\": [\"idcategoria\", \"desccategoria\"]\n",
    "}\n",
    "\n",
    "# ----------- Exemplos errados ------------\n",
    "#exemplo = \"join contas on usuario.idUsuario = contas.Usuario_idUsuario\"\n",
    "#exemplo = \"selec * from usuario\"\n",
    "exemplo = \"selec * fro usuario\"\n",
    "exemplo = \"select * froM usuario wher manp\"\n",
    "exemplo = \"select * froM usuario joi contas on mano where mano > 3\"\n",
    "\n",
    "# ----------- Exemplos certos ------------\n",
    "\n",
    "#exemplo = \"Select idusuario, nome, datanascimento, descricao, saldoinicial, UF, Descrição from usuario join contas on usuario.idUsuario = contas.Usuario_idUsuario join tipoconta on tipoconta.idTipoConta = contas.TipoConta_idTipoConta where saldoinicial < 3000 and uf = 'ce' and Descrição <> 'Conta Corrente' and idusuario > 3\"\n",
    "#exemplo = \"Select nome, datanascimento, descricao, saldoinicial from usuario join contas on usuario.idUsuario = contas.Usuario_idUsuario where saldoinicial >=235 and uf ='ce' and cep <> '62930000' and name='alex';\"\n",
    "exemplo = \"Select nome, datanascimento, descricao, saldoinicial from usuario join contas on usuario.idUsuario = contas.Usuario_idUsuario join Categoria on a = usuario.b\"\n",
    "#exemplo = \"Select nome, datanascimento, descricao, saldoinicial from usuario\"\n",
    "exemplo = \"Select Nome, DataNascimento from Usuario join tipoconta on tipoconta.idtipoconta = usuario.idusuario where Logradouro >=  235\"\n",
    "exemplo = \"Select Usuario.Nome, Logradouro from Usuario join contas on idcontas = idusuario and idcontas <> idusuario join movimentacao on descricao = idmovimentacao\"\n",
    "def regex(database,string):\n",
    "    string = string.lower()\n",
    "    colecoes_chamadas = []\n",
    "\n",
    "    #selecionando o select from\n",
    "    pattern_select_from = r\"^\\bSelect\\b\\s(.*?)\\s\\bFrom\\b\\s(.*?)(($|join|where)(.*?)$)\"\n",
    "    matches = re.findall(pattern_select_from, string, re.IGNORECASE)\n",
    "    matches_select_from = matches\n",
    "    if len(matches) == 0:\n",
    "        return False\n",
    "    else:\n",
    "        #print(\"SELECT: \"+matches_select_from[0][0])\n",
    "        #print(\"FROM: \"+matches_select_from[0][1])\n",
    "        colecoes_chamadas.append(matches_select_from[0][1].strip())\n",
    "\n",
    "        #validacao da coluna #ligacao com o join, as colunas do join tambem podem vir aqui\n",
    "        coluna = matches_select_from[0][1].strip()\n",
    "\n",
    "        if coluna not in database:\n",
    "            return False\n",
    "        \n",
    "        elementos = matches_select_from[0][0].split(\",\")\n",
    "\n",
    "        for i in elementos:\n",
    "            if i == \"*\" and len(elementos) == 1:\n",
    "                print(\"valido\")\n",
    "            elif '.' in i:\n",
    "                elemento_com_ponto = i.strip().split(\".\")\n",
    "                try:\n",
    "                    if not elemento_com_ponto[1] in database[elemento_com_ponto[0]] and not elemento_com_ponto[0] == coluna:\n",
    "                        return False\n",
    "                    \n",
    "                except:\n",
    "                    return False\n",
    "            elif not i.strip() in database[coluna]:\n",
    "                return False\n",
    "            \n",
    "        \n",
    "    #checagem do where\n",
    "    m1 = matches_select_from[0][2]\n",
    "    pattern_select_from = r\"(?:(.*?)\\bwhere\\b(.*?))$\"\n",
    "    matches = re.findall(pattern_select_from, m1, re.IGNORECASE)\n",
    "    matches_where = matches\n",
    "\n",
    "    if len(matches_where) == 0:\n",
    "        m1 = matches_select_from[0][2]\n",
    "    else:\n",
    "        m1 = matches_where[0][0]\n",
    "        valor_where = matches_where[0][1]\n",
    "\n",
    "\n",
    "    #checagem e tratamento do join on\n",
    "    pattern_join_on = r\"(?:\\bjoin\\b(.*?)(?:\\bon\\b|$)(.*?)(?=\\bJoin\\b|$))\"\n",
    "    matches = list(filter(lambda x: x != (\"\", \"\",\"\"), re.findall(pattern_join_on, m1, re.IGNORECASE)))\n",
    "    m2 = matches\n",
    "\n",
    "    for i in m2:\n",
    "\n",
    "        caracteres = list(filter(bool,re.split(r'<=|>=|=|<|>|<>|\\band\\b' ,i[1].strip())))\n",
    "\n",
    "        if i[0].strip() in database:\n",
    "            colecoes_chamadas.append(i[0].strip())\n",
    "            colecao_inexistente = True\n",
    "            for i in colecoes_chamadas:\n",
    "                for j in caracteres:\n",
    "                    if j.strip() in database[i]:\n",
    "                        colecao_inexistente = False\n",
    "            \n",
    "            if colecao_inexistente == True:\n",
    "                return False\n",
    "        else:\n",
    "                return False\n",
    "\n",
    "\n",
    "\n",
    "    #tratamento do where\n",
    "    if len(matches_where) > 0:\n",
    "        if len(matches_where[0][1]) != 0:\n",
    "            valor_where = matches_where[0][1]\n",
    "            #checagem do and\n",
    "            pattern_where_and = r\"(.*?)(?:\\bAND\\b\\s)(.*?)(?=\\s\\bAND\\b|$)\"\n",
    "            matches = list(filter(lambda x: x != (\"\", \"\",\"\"), re.findall(pattern_where_and, valor_where, re.IGNORECASE)))\n",
    "            if len(matches) > 0:\n",
    "                for i in matches:\n",
    "                    for j in i:  \n",
    "                        if len(j.strip()) != 0:\n",
    "                            caracteres = list(filter(bool,re.split(r'<=|>=|=|<|>|<>' ,j.strip())))\n",
    "                            if len(caracteres) != 2:\n",
    "                                return False\n",
    "                            else:\n",
    "                                colecao_inexistente = True\n",
    "                                for i in colecoes_chamadas:\n",
    "                                    tabela = i.strip()\n",
    "                                    if caracteres[0].strip() in database[tabela]:\n",
    "                                        colecao_inexistente = False\n",
    "                                if colecao_inexistente == True:\n",
    "                                    return False\n",
    "            else:\n",
    "                caracteres = list(filter(bool,re.split(r'<=|>=|=|<|>|<>' ,valor_where.strip())))\n",
    "                if len(caracteres) != 2:\n",
    "                    return False\n",
    "                else:\n",
    "                    colecao_inexistente = True\n",
    "                    for i in colecoes_chamadas:\n",
    "                        tabela = i.strip()\n",
    "\n",
    "                        if caracteres[0].strip() in database[tabela]:\n",
    "                            colecao_inexistente = False\n",
    "\n",
    "                    if colecao_inexistente == True:\n",
    "                        return False\n",
    "\n",
    "\n",
    "\n",
    "\n",
    "\n",
    "\n",
    "\n",
    "    return string\n",
    "\n",
    "contents = regex(database,exemplo)\n",
    "print(contents)\n"
   ]
  },
  {
   "cell_type": "code",
   "execution_count": 34,
   "metadata": {},
   "outputs": [
    {
     "ename": "IndentationError",
     "evalue": "expected an indented block after 'for' statement on line 37 (935062535.py, line 38)",
     "output_type": "error",
     "traceback": [
      "\u001b[1;36m  Cell \u001b[1;32mIn [34], line 38\u001b[1;36m\u001b[0m\n\u001b[1;33m    print(\"Join on:\"+ str(i))\u001b[0m\n\u001b[1;37m                             ^\u001b[0m\n\u001b[1;31mIndentationError\u001b[0m\u001b[1;31m:\u001b[0m expected an indented block after 'for' statement on line 37\n"
     ]
    }
   ],
   "source": [
    "        #checagem após o and, fazer um antes\n",
    "        pattern_where_and = r\"(.*?)(?:\\bAND\\b\\s)(.*?)(?=\\s\\bAND\\b|$)\"\n",
    "        matches = list(filter(lambda x: x != (\"\", \"\",\"\"), re.findall(pattern_where_and, matches[0][1], re.IGNORECASE)))\n",
    "        print(matches)\n",
    "\n",
    "        if len(matches) == 0:\n",
    "\n",
    "            matches = matches_where\n",
    "\n",
    "        for i in matches:\n",
    "            print(\"AND APOS WHERE:\"+str(i))\n",
    "            for j in i:\n",
    "                print(j)\n",
    "                separador = 0\n",
    "                for k in list(filter(bool,re.split(r'<=|>=|=|<|>|<>' ,j.strip()))):\n",
    "                    valor = k\n",
    "                    separador += 1\n",
    "                    if separador == 1:\n",
    "                        erro = True\n",
    "                        for i in colecoes_chamadas:\n",
    "                            try:\n",
    "                                if valor.strip() in database[i]:\n",
    "                                    erro = False\n",
    "                            except:\n",
    "                                a = 0\n",
    "                    elif separador > 2 or erro == True:\n",
    "                        return False\n",
    "\n",
    "                    \n",
    "\n",
    "\n",
    "\n",
    "    #join on\n",
    "    pattern_join_on = r\"(?:(.*?)\\bjoin\\b(.*?)(?:\\bon\\b|$)(.*?)(?=\\bJoin\\b|$))\"\n",
    "    matches = list(filter(lambda x: x != (\"\", \"\",\"\"), re.findall(pattern_join_on, m1, re.IGNORECASE)))\n",
    "    m2 = matches\n",
    "    for i in m2:\n",
    "        print(\"Join on:\"+ str(i))\n",
    "\n",
    "    '''#AND entre join e on\n",
    "    if len(m2) > 0: \n",
    "        for i in range(len(m2)):\n",
    "            pattern_join_on = r\"(.*?)(?<=\\bAND\\b\\s)(.*?)(?=\\s\\bAND\\b|$)\"\n",
    "            matches = list(filter(lambda x: x != (\"\", \"\",\"\"), re.findall(pattern_join_on, m2[i][-1], re.IGNORECASE)))\n",
    "            print(matches)\n",
    "    print(matches)'''"
   ]
  },
  {
   "cell_type": "code",
   "execution_count": 19,
   "metadata": {},
   "outputs": [
    {
     "name": "stdout",
     "output_type": "stream",
     "text": [
      "aa\n"
     ]
    }
   ],
   "source": [
    "a = \"Usuario.Nome\".strip().split(\".\")\n",
    "if a[1] in database[a[0]]:\n",
    "    print(\"aa\")"
   ]
  },
  {
   "cell_type": "code",
   "execution_count": 72,
   "metadata": {},
   "outputs": [
    {
     "name": "stdout",
     "output_type": "stream",
     "text": [
      "a\n"
     ]
    }
   ],
   "source": [
    "if 'Logradouro' in database['Usuario']:\n",
    "    print(\"a\")"
   ]
  },
  {
   "cell_type": "code",
   "execution_count": 55,
   "metadata": {},
   "outputs": [],
   "source": [
    "import re\n",
    "\n",
    "pattern = r\"^Select.*\\bFrom.*(\\bJoin.*\\bOn.*)?\"\n",
    "#string1 = \"Select * From Table1\"\n",
    "string2 = \"Select tabela1.coluna1, tabela2.coluna2 From tabela1 Join tabela2 On tabela1.chave = tabela2.chave\"\n",
    "#string3 = \"Select * From Table1 Join Table2\"\n",
    "\n",
    "\n"
   ]
  },
  {
   "cell_type": "code",
   "execution_count": null,
   "metadata": {},
   "outputs": [
    {
     "data": {
      "text/plain": [
       "0"
      ]
     },
     "execution_count": 12,
     "metadata": {},
     "output_type": "execute_result"
    }
   ],
   "source": [
    "0%2"
   ]
  },
  {
   "cell_type": "code",
   "execution_count": 31,
   "metadata": {},
   "outputs": [
    {
     "ename": "TypeError",
     "evalue": "regex() missing 1 required positional argument: 'string'",
     "output_type": "error",
     "traceback": [
      "\u001b[1;31m---------------------------------------------------------------------------\u001b[0m",
      "\u001b[1;31mTypeError\u001b[0m                                 Traceback (most recent call last)",
      "\u001b[1;32mc:\\Users\\paulo\\OneDrive\\Área de Trabalho\\7 semestre\\BD\\Atividade 2\\Processador-de-Consultas\\Regex.ipynb Cell 24\u001b[0m in \u001b[0;36m1\n\u001b[1;32m----> <a href='vscode-notebook-cell:/c%3A/Users/paulo/OneDrive/%C3%81rea%20de%20Trabalho/7%20semestre/BD/Atividade%202/Processador-de-Consultas/Regex.ipynb#X32sZmlsZQ%3D%3D?line=0'>1</a>\u001b[0m contents \u001b[39m=\u001b[39m regex(exemplo)\n\u001b[0;32m      <a href='vscode-notebook-cell:/c%3A/Users/paulo/OneDrive/%C3%81rea%20de%20Trabalho/7%20semestre/BD/Atividade%202/Processador-de-Consultas/Regex.ipynb#X32sZmlsZQ%3D%3D?line=1'>2</a>\u001b[0m \u001b[39mprint\u001b[39m(contents)\n\u001b[0;32m      <a href='vscode-notebook-cell:/c%3A/Users/paulo/OneDrive/%C3%81rea%20de%20Trabalho/7%20semestre/BD/Atividade%202/Processador-de-Consultas/Regex.ipynb#X32sZmlsZQ%3D%3D?line=2'>3</a>\u001b[0m \u001b[39m# Output: ['b', 'a(b)c']\u001b[39;00m\n",
      "\u001b[1;31mTypeError\u001b[0m: regex() missing 1 required positional argument: 'string'"
     ]
    }
   ],
   "source": [
    "contents = regex(exemplo)\n",
    "print(contents)\n",
    "# Output: ['b', 'a(b)c']"
   ]
  },
  {
   "cell_type": "code",
   "execution_count": null,
   "metadata": {},
   "outputs": [
    {
     "data": {
      "text/plain": [
       "[['(', '(', ')', '(', ')', ')'], ['(', ')']]"
      ]
     },
     "execution_count": 9,
     "metadata": {},
     "output_type": "execute_result"
    }
   ],
   "source": [
    "\n",
    "\n",
    "# String de exemplo\n",
    "string = extract_parentheses_order(\"Essa é uma ((string) de (exemplo)) com (parênteses).\")\n",
    "\n",
    "string"
   ]
  },
  {
   "cell_type": "code",
   "execution_count": 24,
   "metadata": {},
   "outputs": [],
   "source": [
    "def remover_caracteres(string_inicial):\n",
    "    caracteres_para_remover = \"\\n,;\"\n",
    "    for caracter in caracteres_para_remover:\n",
    "        string_inicial = string_inicial.replace(caracter, \" \")\n",
    "\n",
    "    return string_inicial\n"
   ]
  },
  {
   "cell_type": "code",
   "execution_count": null,
   "metadata": {},
   "outputs": [],
   "source": [
    "def modelo_parser(consulta_sql):\n",
    "\n",
    "    #elementos do parse em maiusculo\n",
    "    Parse = [\"SELECT\", \"FROM\", \"WHERE\", \"JOIN\", \"ON\", \"=\", \">\", \"<\", \"<=\", \">=\", \"<>\", \"AND\", \"IN\", \"NOT\", \"(\" , \")\" ]\n",
    "    itens = remover_caracteres(consulta_sql).split() #remover caracteres \"lixo\"\n",
    "\n",
    "    #divisao dos elementos\n",
    "    colunas_e_tabelas = [palavra for palavra in itens if palavra not in Parse]\n",
    "    expressoes_no_elemento = [palavra for palavra in itens if palavra in Parse]\n",
    "\n",
    "    #ver os elementos\n",
    "    for i in itens:\n",
    "        if i in colunas_e_tabelas:\n",
    "            print(\"Expressao:{}\".format(i))\n",
    "        else:\n",
    "            print(\"Item:{}\".format(i))\n",
    "\n"
   ]
  },
  {
   "cell_type": "code",
   "execution_count": null,
   "metadata": {},
   "outputs": [
    {
     "ename": "TypeError",
     "evalue": "'str' object is not callable",
     "output_type": "error",
     "traceback": [
      "\u001b[1;31m---------------------------------------------------------------------------\u001b[0m",
      "\u001b[1;31mTypeError\u001b[0m                                 Traceback (most recent call last)",
      "\u001b[1;32mc:\\Users\\paulo\\OneDrive\\Área de Trabalho\\7 semestre\\BD\\Atividade 2\\Processador-de-Consultas\\Teste.ipynb Cell 6\u001b[0m in \u001b[0;36m1\n\u001b[1;32m----> <a href='vscode-notebook-cell:/c%3A/Users/paulo/OneDrive/%C3%81rea%20de%20Trabalho/7%20semestre/BD/Atividade%202/Processador-de-Consultas/Teste.ipynb#W5sZmlsZQ%3D%3D?line=0'>1</a>\u001b[0m modelo_parser(exemplo)\n",
      "\u001b[1;32mc:\\Users\\paulo\\OneDrive\\Área de Trabalho\\7 semestre\\BD\\Atividade 2\\Processador-de-Consultas\\Teste.ipynb Cell 6\u001b[0m in \u001b[0;36m5\n\u001b[0;32m      <a href='vscode-notebook-cell:/c%3A/Users/paulo/OneDrive/%C3%81rea%20de%20Trabalho/7%20semestre/BD/Atividade%202/Processador-de-Consultas/Teste.ipynb#W5sZmlsZQ%3D%3D?line=2'>3</a>\u001b[0m Parse \u001b[39m=\u001b[39m [\u001b[39m\"\u001b[39m\u001b[39mSELECT\u001b[39m\u001b[39m\"\u001b[39m, \u001b[39m\"\u001b[39m\u001b[39mFROM\u001b[39m\u001b[39m\"\u001b[39m, \u001b[39m\"\u001b[39m\u001b[39mWHERE\u001b[39m\u001b[39m\"\u001b[39m, \u001b[39m\"\u001b[39m\u001b[39mJOIN\u001b[39m\u001b[39m\"\u001b[39m, \u001b[39m\"\u001b[39m\u001b[39mON\u001b[39m\u001b[39m\"\u001b[39m, \u001b[39m\"\u001b[39m\u001b[39m=\u001b[39m\u001b[39m\"\u001b[39m, \u001b[39m\"\u001b[39m\u001b[39m>\u001b[39m\u001b[39m\"\u001b[39m, \u001b[39m\"\u001b[39m\u001b[39m<\u001b[39m\u001b[39m\"\u001b[39m, \u001b[39m\"\u001b[39m\u001b[39m<=\u001b[39m\u001b[39m\"\u001b[39m, \u001b[39m\"\u001b[39m\u001b[39m>=\u001b[39m\u001b[39m\"\u001b[39m, \u001b[39m\"\u001b[39m\u001b[39m<>\u001b[39m\u001b[39m\"\u001b[39m, \u001b[39m\"\u001b[39m\u001b[39mAND\u001b[39m\u001b[39m\"\u001b[39m, \u001b[39m\"\u001b[39m\u001b[39mIN\u001b[39m\u001b[39m\"\u001b[39m, \u001b[39m\"\u001b[39m\u001b[39mNOT\u001b[39m\u001b[39m\"\u001b[39m, \u001b[39m\"\u001b[39m\u001b[39m(\u001b[39m\u001b[39m\"\u001b[39m , \u001b[39m\"\u001b[39m\u001b[39m)\u001b[39m\u001b[39m\"\u001b[39m ]\n\u001b[0;32m      <a href='vscode-notebook-cell:/c%3A/Users/paulo/OneDrive/%C3%81rea%20de%20Trabalho/7%20semestre/BD/Atividade%202/Processador-de-Consultas/Teste.ipynb#W5sZmlsZQ%3D%3D?line=3'>4</a>\u001b[0m caracteres_para_remover \u001b[39m=\u001b[39m \u001b[39m\"\u001b[39m\u001b[39m\\n\u001b[39;00m\u001b[39m,;\u001b[39m\u001b[39m\"\u001b[39m\n\u001b[1;32m----> <a href='vscode-notebook-cell:/c%3A/Users/paulo/OneDrive/%C3%81rea%20de%20Trabalho/7%20semestre/BD/Atividade%202/Processador-de-Consultas/Teste.ipynb#W5sZmlsZQ%3D%3D?line=4'>5</a>\u001b[0m itens \u001b[39m=\u001b[39m caracteres_para_remover(consulta_sql)\u001b[39m.\u001b[39msplit()\u001b[39m#.split(\"\\n\")\u001b[39;00m\n\u001b[0;32m      <a href='vscode-notebook-cell:/c%3A/Users/paulo/OneDrive/%C3%81rea%20de%20Trabalho/7%20semestre/BD/Atividade%202/Processador-de-Consultas/Teste.ipynb#W5sZmlsZQ%3D%3D?line=5'>6</a>\u001b[0m elementos_da_consulta \u001b[39m=\u001b[39m [palavra \u001b[39mfor\u001b[39;00m palavra \u001b[39min\u001b[39;00m itens \u001b[39mif\u001b[39;00m palavra \u001b[39mnot\u001b[39;00m \u001b[39min\u001b[39;00m Parse]\n\u001b[0;32m      <a href='vscode-notebook-cell:/c%3A/Users/paulo/OneDrive/%C3%81rea%20de%20Trabalho/7%20semestre/BD/Atividade%202/Processador-de-Consultas/Teste.ipynb#W5sZmlsZQ%3D%3D?line=6'>7</a>\u001b[0m elementos_das_expressoes \u001b[39m=\u001b[39m [palavra \u001b[39mfor\u001b[39;00m palavra \u001b[39min\u001b[39;00m itens \u001b[39mif\u001b[39;00m palavra \u001b[39min\u001b[39;00m Parse]\n",
      "\u001b[1;31mTypeError\u001b[0m: 'str' object is not callable"
     ]
    }
   ],
   "source": [
    "modelo_parser(exemplo)"
   ]
  }
 ],
 "metadata": {
  "kernelspec": {
   "display_name": "Python 3",
   "language": "python",
   "name": "python3"
  },
  "language_info": {
   "codemirror_mode": {
    "name": "ipython",
    "version": 3
   },
   "file_extension": ".py",
   "mimetype": "text/x-python",
   "name": "python",
   "nbconvert_exporter": "python",
   "pygments_lexer": "ipython3",
   "version": "3.11.1"
  },
  "orig_nbformat": 4
 },
 "nbformat": 4,
 "nbformat_minor": 2
}
