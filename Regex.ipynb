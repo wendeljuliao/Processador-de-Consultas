{
 "cells": [
  {
   "cell_type": "code",
   "execution_count": 2,
   "metadata": {},
   "outputs": [],
   "source": [
    "import re"
   ]
  },
  {
   "cell_type": "code",
   "execution_count": 7,
   "metadata": {},
   "outputs": [],
   "source": [
    "Parse = [\"SELECT\", \"FROM\", \"WHERE\", \"JOIN ON\", \"=\", \">\", \"<\", \"<=\", \">=\", \"<>\", \"AND\", \"IN\", \"NOT IN\", \"(\" , \")\" ]"
   ]
  },
  {
   "cell_type": "code",
   "execution_count": 52,
   "metadata": {},
   "outputs": [],
   "source": [
    "exemplo = '''Select tabela1.coluna1, tabela2.coluna2\n",
    "From tabela1\n",
    "Join tabela2 ON tabela1.chave = tabela2.chave'''"
   ]
  },
  {
   "cell_type": "code",
   "execution_count": 65,
   "metadata": {},
   "outputs": [],
   "source": [
    "BancoSQL = {\n",
    "\n",
    "    \"tabela1\": {\n",
    "    \n",
    "        \"coluna1\":[\"boa\",\"tarde\",\"rapaziada\"],\n",
    "        \"chave\":[\"c1\",\"c2\",\"c3\"]\n",
    "\n",
    "    },\n",
    "\n",
    "    \"tabela2\": {\n",
    "    \n",
    "        \"coluna2\":[\"boa2\",\"tarde2\",\"rapaziada2\"],\n",
    "        \"chave\":[\"c1\",\"c2\",\"c3\"]\n",
    "\n",
    "    }\n",
    "\n",
    "\n",
    "\n",
    "\n",
    "}"
   ]
  },
  {
   "cell_type": "code",
   "execution_count": 63,
   "metadata": {},
   "outputs": [
    {
     "name": "stdout",
     "output_type": "stream",
     "text": [
      "['Select', 'From', 'Join']\n"
     ]
    }
   ],
   "source": [
    "exemplo = '''Select tabela1.coluna1, tabela2.coluna2\n",
    "From tabela1\n",
    "Join tabela2 On tabela1.chave = tabela2.chave'''\n",
    "\n",
    "def regex(BancoSQL,string):\n",
    "    pattern = r\"\\b(Select|From|Join|Where)\\b\"\n",
    "    pattern_double = r\"\\b(Join|On|Not|In)\\b\"\n",
    "    matches = re.findall(pattern, string)\n",
    "    matches_double = re.findall(pattern_double, string)\n",
    "    if len(matches_double)%2 != 0:\n",
    "        return \"Erro\"\n",
    "    return matches\n",
    "\n",
    "contents = regex(exemplo)\n",
    "print(contents)\n"
   ]
  },
  {
   "cell_type": "code",
   "execution_count": 64,
   "metadata": {},
   "outputs": [
    {
     "data": {
      "text/plain": [
       "0"
      ]
     },
     "execution_count": 64,
     "metadata": {},
     "output_type": "execute_result"
    }
   ],
   "source": [
    "0%2"
   ]
  },
  {
   "cell_type": "code",
   "execution_count": 61,
   "metadata": {},
   "outputs": [
    {
     "name": "stdout",
     "output_type": "stream",
     "text": [
      "['Join', 'On']\n"
     ]
    }
   ],
   "source": [
    "contents = regex(exemplo)\n",
    "print(contents)\n",
    "# Output: ['b', 'a(b)c']"
   ]
  },
  {
   "cell_type": "code",
   "execution_count": 9,
   "metadata": {},
   "outputs": [
    {
     "data": {
      "text/plain": [
       "[['(', '(', ')', '(', ')', ')'], ['(', ')']]"
      ]
     },
     "execution_count": 9,
     "metadata": {},
     "output_type": "execute_result"
    }
   ],
   "source": [
    "\n",
    "\n",
    "# String de exemplo\n",
    "string = extract_parentheses_order(\"Essa é uma ((string) de (exemplo)) com (parênteses).\")\n",
    "\n",
    "string"
   ]
  },
  {
   "cell_type": "code",
   "execution_count": 28,
   "metadata": {},
   "outputs": [],
   "source": [
    "def remover_caracteres(string_inicial):\n",
    "    caracteres_para_remover = \"\\n,;\"\n",
    "    for caracter in caracteres_para_remover:\n",
    "        string_inicial = string_inicial.replace(caracter, \" \")\n",
    "\n",
    "    return string_inicial\n"
   ]
  },
  {
   "cell_type": "code",
   "execution_count": 32,
   "metadata": {},
   "outputs": [],
   "source": [
    "def modelo_parser(consulta_sql):\n",
    "\n",
    "    #elementos do parse em maiusculo\n",
    "    Parse = [\"SELECT\", \"FROM\", \"WHERE\", \"JOIN\", \"ON\", \"=\", \">\", \"<\", \"<=\", \">=\", \"<>\", \"AND\", \"IN\", \"NOT\", \"(\" , \")\" ]\n",
    "    itens = remover_caracteres(consulta_sql).split() #remover caracteres \"lixo\"\n",
    "\n",
    "    #divisao dos elementos\n",
    "    colunas_e_tabelas = [palavra for palavra in itens if palavra not in Parse]\n",
    "    expressoes_no_elemento = [palavra for palavra in itens if palavra in Parse]\n",
    "\n",
    "    #ver os elementos\n",
    "    for i in itens:\n",
    "        if i in colunas_e_tabelas:\n",
    "            print(\"Expressao:{}\".format(i))\n",
    "        else:\n",
    "            print(\"Item:{}\".format(i))\n",
    "\n"
   ]
  },
  {
   "cell_type": "code",
   "execution_count": 30,
   "metadata": {},
   "outputs": [
    {
     "ename": "TypeError",
     "evalue": "'str' object is not callable",
     "output_type": "error",
     "traceback": [
      "\u001b[1;31m---------------------------------------------------------------------------\u001b[0m",
      "\u001b[1;31mTypeError\u001b[0m                                 Traceback (most recent call last)",
      "\u001b[1;32mc:\\Users\\paulo\\OneDrive\\Área de Trabalho\\7 semestre\\BD\\Atividade 2\\Processador-de-Consultas\\Teste.ipynb Cell 6\u001b[0m in \u001b[0;36m1\n\u001b[1;32m----> <a href='vscode-notebook-cell:/c%3A/Users/paulo/OneDrive/%C3%81rea%20de%20Trabalho/7%20semestre/BD/Atividade%202/Processador-de-Consultas/Teste.ipynb#W5sZmlsZQ%3D%3D?line=0'>1</a>\u001b[0m modelo_parser(exemplo)\n",
      "\u001b[1;32mc:\\Users\\paulo\\OneDrive\\Área de Trabalho\\7 semestre\\BD\\Atividade 2\\Processador-de-Consultas\\Teste.ipynb Cell 6\u001b[0m in \u001b[0;36m5\n\u001b[0;32m      <a href='vscode-notebook-cell:/c%3A/Users/paulo/OneDrive/%C3%81rea%20de%20Trabalho/7%20semestre/BD/Atividade%202/Processador-de-Consultas/Teste.ipynb#W5sZmlsZQ%3D%3D?line=2'>3</a>\u001b[0m Parse \u001b[39m=\u001b[39m [\u001b[39m\"\u001b[39m\u001b[39mSELECT\u001b[39m\u001b[39m\"\u001b[39m, \u001b[39m\"\u001b[39m\u001b[39mFROM\u001b[39m\u001b[39m\"\u001b[39m, \u001b[39m\"\u001b[39m\u001b[39mWHERE\u001b[39m\u001b[39m\"\u001b[39m, \u001b[39m\"\u001b[39m\u001b[39mJOIN\u001b[39m\u001b[39m\"\u001b[39m, \u001b[39m\"\u001b[39m\u001b[39mON\u001b[39m\u001b[39m\"\u001b[39m, \u001b[39m\"\u001b[39m\u001b[39m=\u001b[39m\u001b[39m\"\u001b[39m, \u001b[39m\"\u001b[39m\u001b[39m>\u001b[39m\u001b[39m\"\u001b[39m, \u001b[39m\"\u001b[39m\u001b[39m<\u001b[39m\u001b[39m\"\u001b[39m, \u001b[39m\"\u001b[39m\u001b[39m<=\u001b[39m\u001b[39m\"\u001b[39m, \u001b[39m\"\u001b[39m\u001b[39m>=\u001b[39m\u001b[39m\"\u001b[39m, \u001b[39m\"\u001b[39m\u001b[39m<>\u001b[39m\u001b[39m\"\u001b[39m, \u001b[39m\"\u001b[39m\u001b[39mAND\u001b[39m\u001b[39m\"\u001b[39m, \u001b[39m\"\u001b[39m\u001b[39mIN\u001b[39m\u001b[39m\"\u001b[39m, \u001b[39m\"\u001b[39m\u001b[39mNOT\u001b[39m\u001b[39m\"\u001b[39m, \u001b[39m\"\u001b[39m\u001b[39m(\u001b[39m\u001b[39m\"\u001b[39m , \u001b[39m\"\u001b[39m\u001b[39m)\u001b[39m\u001b[39m\"\u001b[39m ]\n\u001b[0;32m      <a href='vscode-notebook-cell:/c%3A/Users/paulo/OneDrive/%C3%81rea%20de%20Trabalho/7%20semestre/BD/Atividade%202/Processador-de-Consultas/Teste.ipynb#W5sZmlsZQ%3D%3D?line=3'>4</a>\u001b[0m caracteres_para_remover \u001b[39m=\u001b[39m \u001b[39m\"\u001b[39m\u001b[39m\\n\u001b[39;00m\u001b[39m,;\u001b[39m\u001b[39m\"\u001b[39m\n\u001b[1;32m----> <a href='vscode-notebook-cell:/c%3A/Users/paulo/OneDrive/%C3%81rea%20de%20Trabalho/7%20semestre/BD/Atividade%202/Processador-de-Consultas/Teste.ipynb#W5sZmlsZQ%3D%3D?line=4'>5</a>\u001b[0m itens \u001b[39m=\u001b[39m caracteres_para_remover(consulta_sql)\u001b[39m.\u001b[39msplit()\u001b[39m#.split(\"\\n\")\u001b[39;00m\n\u001b[0;32m      <a href='vscode-notebook-cell:/c%3A/Users/paulo/OneDrive/%C3%81rea%20de%20Trabalho/7%20semestre/BD/Atividade%202/Processador-de-Consultas/Teste.ipynb#W5sZmlsZQ%3D%3D?line=5'>6</a>\u001b[0m elementos_da_consulta \u001b[39m=\u001b[39m [palavra \u001b[39mfor\u001b[39;00m palavra \u001b[39min\u001b[39;00m itens \u001b[39mif\u001b[39;00m palavra \u001b[39mnot\u001b[39;00m \u001b[39min\u001b[39;00m Parse]\n\u001b[0;32m      <a href='vscode-notebook-cell:/c%3A/Users/paulo/OneDrive/%C3%81rea%20de%20Trabalho/7%20semestre/BD/Atividade%202/Processador-de-Consultas/Teste.ipynb#W5sZmlsZQ%3D%3D?line=6'>7</a>\u001b[0m elementos_das_expressoes \u001b[39m=\u001b[39m [palavra \u001b[39mfor\u001b[39;00m palavra \u001b[39min\u001b[39;00m itens \u001b[39mif\u001b[39;00m palavra \u001b[39min\u001b[39;00m Parse]\n",
      "\u001b[1;31mTypeError\u001b[0m: 'str' object is not callable"
     ]
    }
   ],
   "source": [
    "modelo_parser(exemplo)"
   ]
  }
 ],
 "metadata": {
  "kernelspec": {
   "display_name": "Python 3",
   "language": "python",
   "name": "python3"
  },
  "language_info": {
   "codemirror_mode": {
    "name": "ipython",
    "version": 3
   },
   "file_extension": ".py",
   "mimetype": "text/x-python",
   "name": "python",
   "nbconvert_exporter": "python",
   "pygments_lexer": "ipython3",
   "version": "3.11.1"
  },
  "orig_nbformat": 4
 },
 "nbformat": 4,
 "nbformat_minor": 2
}
